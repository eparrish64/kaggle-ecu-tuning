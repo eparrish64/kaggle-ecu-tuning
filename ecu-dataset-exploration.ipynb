{
 "cells": [
  {
   "cell_type": "code",
   "execution_count": 1,
   "id": "e48b4075",
   "metadata": {
    "execution": {
     "iopub.execute_input": "2022-07-27T16:42:13.706768Z",
     "iopub.status.busy": "2022-07-27T16:42:13.706277Z",
     "iopub.status.idle": "2022-07-27T16:42:13.716164Z",
     "shell.execute_reply": "2022-07-27T16:42:13.715385Z"
    },
    "papermill": {
     "duration": 0.016934,
     "end_time": "2022-07-27T16:42:13.718093",
     "exception": false,
     "start_time": "2022-07-27T16:42:13.701159",
     "status": "completed"
    },
    "tags": []
   },
   "outputs": [],
   "source": [
    "# -*- coding: utf-8 -*-\n",
    "import glob, os\n",
    "import pandas as pd\n",
    "import numpy as np\n",
    "import matplotlib.pyplot as plt"
   ]
  },
  {
   "cell_type": "code",
   "execution_count": 2,
   "id": "277bc742",
   "metadata": {
    "execution": {
     "iopub.execute_input": "2022-07-27T16:42:13.724095Z",
     "iopub.status.busy": "2022-07-27T16:42:13.723336Z",
     "iopub.status.idle": "2022-07-27T16:42:14.066675Z",
     "shell.execute_reply": "2022-07-27T16:42:14.065432Z"
    },
    "papermill": {
     "duration": 0.349628,
     "end_time": "2022-07-27T16:42:14.070027",
     "exception": false,
     "start_time": "2022-07-27T16:42:13.720399",
     "status": "completed"
    },
    "tags": []
   },
   "outputs": [],
   "source": [
    "\"\"\"\n",
    "Taken from https://www.kaggle.com/code/hashimo227/car-ecu-datalogs-scatter-plot?scriptVersionId=45999601&cellId=5\n",
    "\"\"\"\n",
    "\n",
    "input_files = glob.glob(\"../input/car-ecu-datalogs/2018*.csv\", recursive=True)\n",
    "all_data = None\n",
    "for i in range(2):\n",
    "    csv_columns = []\n",
    "    csv_columns.append('time')\n",
    "    header_number = 0\n",
    "    channel = \"\"\n",
    "    with open(input_files[i]) as f:\n",
    "        lines = f.readlines()\n",
    "        for line in lines:\n",
    "            header_number += 1\n",
    "            if line.startswith('Channel : '):\n",
    "                channel = line.replace('Channel : ','').replace('\\n','')\n",
    "            if line.startswith('Type : '):\n",
    "                csv_columns.append(channel + \"[\" + line.replace('Type : ','').replace('\\n','') + \"]\")\n",
    "            if line.startswith('Log : '):\n",
    "                break\n",
    "#     print(\"{} header={}  file={}\".format(i+1, header_number, input_files[i]))\n",
    "    df = pd.read_csv(input_files[i], index_col=False, skiprows=header_number, names=csv_columns)\n",
    "    \n",
    "    basename = os.path.basename(input_files[i])\n",
    "    df['date'] = basename.replace('.csv','').split('-')[0]\n",
    "    route = basename.replace('.csv','').split('-')[1]\n",
    "    df['route'] = route\n",
    "    df['time'] = df['date'] + \" \" + df['time']\n",
    "    df['time'] = pd.to_datetime( df['time'], format=\"%Y%m%d %H:%M:%S.%f\")\n",
    "    df['#time_diff'] = df['time'].diff(1).dt.total_seconds()\n",
    "    df['#time_seq'] = df['#time_diff'].cumsum()\n",
    "    df['#road_seq'] = df['#time_seq']\n",
    "    if route == \"mimos2home\":\n",
    "        df['#road_seq'] = df['#road_seq'].max() - df['#road_seq']\n",
    "\n",
    "    if all_data is None:\n",
    "        all_data = df\n",
    "    else:\n",
    "        all_data = pd.concat([all_data, df])"
   ]
  },
  {
   "cell_type": "code",
   "execution_count": 3,
   "id": "be804b09",
   "metadata": {
    "execution": {
     "iopub.execute_input": "2022-07-27T16:42:14.080007Z",
     "iopub.status.busy": "2022-07-27T16:42:14.079080Z",
     "iopub.status.idle": "2022-07-27T16:42:14.086500Z",
     "shell.execute_reply": "2022-07-27T16:42:14.085367Z"
    },
    "papermill": {
     "duration": 0.015887,
     "end_time": "2022-07-27T16:42:14.089287",
     "exception": false,
     "start_time": "2022-07-27T16:42:14.073400",
     "status": "completed"
    },
    "tags": []
   },
   "outputs": [
    {
     "name": "stdout",
     "output_type": "stream",
     "text": [
      "time\n",
      "AFRDifference[AFR]\n",
      "BatteryVoltage[BatteryVoltage]\n",
      "EngineRunningTime[Time_s]\n",
      "IgnitionTiming[Angle]\n",
      "CurrentDutyCycle[Percentage]\n",
      "Load[Pressure]\n",
      "IgnitionLoad[Pressure]\n",
      "ShiftLight1[Raw]\n",
      "AirTemp[Temperature]\n",
      "CoolantTemp[Temperature]\n",
      "MAPSource[Pressure]\n",
      "LambdaSensor1[AFR]\n",
      "ThrottlePosition[Percentage]\n",
      "BaseFuel[Percentage]\n",
      "BaseIgnition[AngleIgnSprt2K]\n",
      "TargetAFR[AFR]\n",
      "FuelAirTempCorrection[Percentage]\n",
      "FuelCoolantTempCorrection[Percentage1For1]\n",
      "IgnitionCoolantTempCorrection[AngleOffset10deg]\n",
      "IgnitionAirTempCorrection[Angle]\n",
      "RPM[EngineSpeed]\n",
      "TransientThrottleAccelCoolantCorr[Percentage]\n",
      "TransientThrottleEnrichSensitivity[Time_us]\n",
      "TransientThrottleEnrichDecayRate[msPerEngCyl]\n",
      "TransientThrottlePercentageAsync[Percentage]\n",
      "TransientThrottlePercentageEnrich[Percentage]\n",
      "Pwm_State_2[Raw]\n",
      "Pwm_State_1[Raw]\n",
      "date\n",
      "route\n",
      "#time_diff\n",
      "#time_seq\n",
      "#road_seq\n"
     ]
    }
   ],
   "source": [
    "for i in all_data.columns:\n",
    "    print(i)"
   ]
  },
  {
   "cell_type": "code",
   "execution_count": 4,
   "id": "8eb0de2e",
   "metadata": {
    "execution": {
     "iopub.execute_input": "2022-07-27T16:42:14.097672Z",
     "iopub.status.busy": "2022-07-27T16:42:14.096824Z",
     "iopub.status.idle": "2022-07-27T16:42:14.124669Z",
     "shell.execute_reply": "2022-07-27T16:42:14.123516Z"
    },
    "papermill": {
     "duration": 0.034176,
     "end_time": "2022-07-27T16:42:14.127062",
     "exception": false,
     "start_time": "2022-07-27T16:42:14.092886",
     "status": "completed"
    },
    "tags": []
   },
   "outputs": [],
   "source": [
    "slimmed_data = all_data[[    \"time\",\"AFRDifference[AFR]\",\"IgnitionTiming[Angle]\",\"CurrentDutyCycle[Percentage]\",\n",
    "                             \"Load[Pressure]\", \"AirTemp[Temperature]\",\"CoolantTemp[Temperature]\",\"LambdaSensor1[AFR]\", \"ThrottlePosition[Percentage]\",\n",
    "                             \"TargetAFR[AFR]\", \"RPM[EngineSpeed]\"\n",
    "                        ]]"
   ]
  },
  {
   "cell_type": "code",
   "execution_count": 5,
   "id": "bbcefcf2",
   "metadata": {
    "execution": {
     "iopub.execute_input": "2022-07-27T16:42:14.133532Z",
     "iopub.status.busy": "2022-07-27T16:42:14.132547Z",
     "iopub.status.idle": "2022-07-27T16:42:14.147421Z",
     "shell.execute_reply": "2022-07-27T16:42:14.146019Z"
    },
    "papermill": {
     "duration": 0.02051,
     "end_time": "2022-07-27T16:42:14.149881",
     "exception": false,
     "start_time": "2022-07-27T16:42:14.129371",
     "status": "completed"
    },
    "tags": []
   },
   "outputs": [
    {
     "name": "stdout",
     "output_type": "stream",
     "text": [
      "                     time  AFRDifference[AFR]  IgnitionTiming[Angle]  \\\n",
      "0 2018-08-20 06:17:34.000                28.0                  160.0   \n",
      "1 2018-08-20 06:17:34.047                 NaN                    NaN   \n",
      "2 2018-08-20 06:17:34.078                 NaN                    NaN   \n",
      "3 2018-08-20 06:17:34.094                 NaN                    NaN   \n",
      "4 2018-08-20 06:17:34.203                 NaN                    NaN   \n",
      "\n",
      "   CurrentDutyCycle[Percentage]  Load[Pressure]  AirTemp[Temperature]  \\\n",
      "0                          23.0           397.0                3132.0   \n",
      "1                           NaN           396.0                   NaN   \n",
      "2                           NaN           397.0                   NaN   \n",
      "3                          23.0             NaN                   NaN   \n",
      "4                           NaN             NaN                   NaN   \n",
      "\n",
      "   CoolantTemp[Temperature]  LambdaSensor1[AFR]  ThrottlePosition[Percentage]  \\\n",
      "0                    3257.0                 0.0                           0.0   \n",
      "1                       NaN                 NaN                           NaN   \n",
      "2                    3257.0               972.0                           NaN   \n",
      "3                       NaN                 NaN                           NaN   \n",
      "4                       NaN                 NaN                           NaN   \n",
      "\n",
      "   TargetAFR[AFR]  RPM[EngineSpeed]  \n",
      "0          1000.0            1043.0  \n",
      "1             NaN            1037.0  \n",
      "2             NaN            1047.0  \n",
      "3             NaN               NaN  \n",
      "4             NaN               NaN  \n"
     ]
    }
   ],
   "source": [
    "print(slimmed_data.head())"
   ]
  },
  {
   "cell_type": "code",
   "execution_count": null,
   "id": "2b6a2ec0",
   "metadata": {
    "papermill": {
     "duration": 0.001997,
     "end_time": "2022-07-27T16:42:14.154230",
     "exception": false,
     "start_time": "2022-07-27T16:42:14.152233",
     "status": "completed"
    },
    "tags": []
   },
   "outputs": [],
   "source": []
  }
 ],
 "metadata": {
  "kernelspec": {
   "display_name": "Python 3",
   "language": "python",
   "name": "python3"
  },
  "language_info": {
   "codemirror_mode": {
    "name": "ipython",
    "version": 3
   },
   "file_extension": ".py",
   "mimetype": "text/x-python",
   "name": "python",
   "nbconvert_exporter": "python",
   "pygments_lexer": "ipython3",
   "version": "3.7.12"
  },
  "papermill": {
   "default_parameters": {},
   "duration": 9.075114,
   "end_time": "2022-07-27T16:42:14.776187",
   "environment_variables": {},
   "exception": null,
   "input_path": "__notebook__.ipynb",
   "output_path": "__notebook__.ipynb",
   "parameters": {},
   "start_time": "2022-07-27T16:42:05.701073",
   "version": "2.3.4"
  }
 },
 "nbformat": 4,
 "nbformat_minor": 5
}
